{
 "cells": [
  {
   "cell_type": "code",
   "execution_count": 24,
   "id": "67a5f453",
   "metadata": {},
   "outputs": [
    {
     "name": "stdout",
     "output_type": "stream",
     "text": [
      "WELCOME TO ASANKA HOTEL RESTUARANT\n",
      "...................................\n",
      "Kindly enter your food charge : $23\n",
      "Tip : $4.14\n",
      "Sales Tax : $1.61\n",
      "Grand Total : $28.75\n"
     ]
    }
   ],
   "source": [
    "print('WELCOME TO ASANKA HOTEL RESTUARANT')\n",
    "print('...................................')\n",
    "amt = float(input(\"Kindly enter your food charge : $\"))\n",
    "\n",
    "#defining tip and tax\n",
    "tip = 0.18\n",
    "tax = 0.07\n",
    "\n",
    "#Calculating Tip\n",
    "total_tip = amt *tip\n",
    "#Calculating Tax\n",
    "total_tax = amt *tax\n",
    "#Calculating Grand Total\n",
    "total = total_tip + total_tax + amt\n",
    "\n",
    "#Output\n",
    "print(f'Tip : ${total_tip:.2f}')\n",
    "print(f'Sales Tax : ${total_tax:.2f}')\n",
    "print(f'Grand Total : ${total:.2f}')\n",
    "\n"
   ]
  },
  {
   "cell_type": "code",
   "execution_count": 29,
   "id": "1f5c7986",
   "metadata": {},
   "outputs": [
    {
     "name": "stdout",
     "output_type": "stream",
     "text": [
      "0\n",
      "1\n",
      "2\n",
      "3\n"
     ]
    }
   ],
   "source": [
    "z = 'uvxw'\n",
    "for i in range(len(z)):\n",
    "    print(i)"
   ]
  }
 ],
 "metadata": {
  "kernelspec": {
   "display_name": "Python 3 (ipykernel)",
   "language": "python",
   "name": "python3"
  },
  "language_info": {
   "codemirror_mode": {
    "name": "ipython",
    "version": 3
   },
   "file_extension": ".py",
   "mimetype": "text/x-python",
   "name": "python",
   "nbconvert_exporter": "python",
   "pygments_lexer": "ipython3",
   "version": "3.10.10"
  }
 },
 "nbformat": 4,
 "nbformat_minor": 5
}
